{
  "nbformat": 4,
  "nbformat_minor": 0,
  "metadata": {
    "colab": {
      "provenance": []
    },
    "kernelspec": {
      "name": "python3",
      "display_name": "Python 3"
    },
    "language_info": {
      "name": "python"
    }
  },
  "cells": [
    {
      "cell_type": "markdown",
      "source": [
        "# Prerequisites"
      ],
      "metadata": {
        "id": "aqKmYqMOVM-h"
      }
    },
    {
      "cell_type": "markdown",
      "source": [
        "## Prepare environment\n",
        "\n",
        "These commands will install all required dependencies and download dataset."
      ],
      "metadata": {
        "id": "AgAKCvzTX-ZA"
      }
    },
    {
      "cell_type": "code",
      "execution_count": null,
      "metadata": {
        "id": "UzkXNg4m3GN1"
      },
      "outputs": [],
      "source": [
        "!rm -f ./products.csv\n",
        "\n",
        "# cope information about required programming libraries for Python\n",
        "!gsutil cp gs://dct-tt-6-receng-wrkshp/code/requirements.txt requirements.txt \n",
        "\n",
        "# copy data from cloud to the environment of the notebook\n",
        "!gsutil cp gs://dct-tt-6-receng-wrkshp/dataset/big_basket/products.zip products.zip\n",
        "\n",
        "# unpack the dataset\n",
        "!unzip -j ./products.zip\n",
        "\n",
        "# install Python librraies for this exercise\n",
        "!pip install -r requirements.txt"
      ]
    },
    {
      "cell_type": "code",
      "source": [
        "# import libraries to the programing environment\n",
        "import pandas as pd\n",
        "import numpy as np\n",
        "import matplotlib.pyplot as plt"
      ],
      "metadata": {
        "id": "DR_7iyz1gIdi"
      },
      "execution_count": null,
      "outputs": []
    },
    {
      "cell_type": "markdown",
      "source": [
        "## Loading data\n",
        "Load data to panda data frame."
      ],
      "metadata": {
        "id": "ckBSWMD4aDLA"
      }
    },
    {
      "cell_type": "code",
      "source": [
        "df = pd.read_csv('products.csv')\n",
        "rows1, cols1 = df.shape\n",
        "print(f\"\"\"The loaded dataset has:\n",
        "\\t- {rows1} rows\n",
        "\\t- {cols1} columns\"\"\")"
      ],
      "metadata": {
        "id": "ZDSKC7QJfqeW"
      },
      "execution_count": null,
      "outputs": []
    },
    {
      "cell_type": "markdown",
      "source": [
        "How data looks like."
      ],
      "metadata": {
        "id": "9oNUi98OaIB6"
      }
    },
    {
      "cell_type": "markdown",
      "source": [
        "Columns:\n",
        "* **index** - Simply the Index\n",
        "* **product** - Title of the product (as they're listed)\n",
        "* **category** - Category into which product has been classified\n",
        "* **sub_category** - Subcategory into which product has been kept\n",
        "* **brand** - Brand of the product\n",
        "* **sale_price** - Price at which product is being sold on the site\n",
        "* **market_price** - Market price of the product\n",
        "* **type** - Type into which product falls\n",
        "* **rating** - Rating the product has got from its consumers\n",
        "* **description** - Description of the dataset (in detail)"
      ],
      "metadata": {
        "id": "ctJ9TCUGX7Es"
      }
    },
    {
      "cell_type": "code",
      "source": [
        "df[\"product_id\"] = df[\"index\"]\n",
        "df = df.set_index(\"product_id\")\n",
        "df.drop(\"index\", axis=1, inplace=True)"
      ],
      "metadata": {
        "id": "VQWgKTQw8ZfR"
      },
      "execution_count": null,
      "outputs": []
    },
    {
      "cell_type": "code",
      "source": [
        "df.head(10)"
      ],
      "metadata": {
        "id": "svUE-93yXki6"
      },
      "execution_count": null,
      "outputs": []
    },
    {
      "cell_type": "markdown",
      "source": [
        "# Find similarities in data\n"
      ],
      "metadata": {
        "id": "CkkYtCkTfybf"
      }
    },
    {
      "cell_type": "markdown",
      "source": [
        "## Handling missing values\n",
        "\n",
        "In our exercise we can just drop all empty values."
      ],
      "metadata": {
        "id": "5qu9bX8TPcBN"
      }
    },
    {
      "cell_type": "code",
      "source": [
        "print(\"There are empty values in dataset:\")\n",
        "empty_stats = df.isnull().sum()\n",
        "empty_columns = [(key, empty_stats[key]) for key in empty_stats.keys() if empty_stats[key] > 0]\n",
        "for col in empty_columns:\n",
        "  print(f\"\\t- column '{col[0]}' has {col[1]} empty values\")"
      ],
      "metadata": {
        "id": "wRLSB_vHQYnq"
      },
      "execution_count": null,
      "outputs": []
    },
    {
      "cell_type": "markdown",
      "source": [
        "Dropping empty values."
      ],
      "metadata": {
        "id": "TQfo3iq-Sr9p"
      }
    },
    {
      "cell_type": "code",
      "source": [
        "df = df.dropna()\n",
        "rows2, cols2 = df.shape\n",
        "print(f\"\"\"The cleared dataset has:\n",
        "\\t- {rows2} rows, {rows1-rows2} rows less\n",
        "\\t- {cols2} columns\"\"\")"
      ],
      "metadata": {
        "id": "VYykdPjhgQkj"
      },
      "execution_count": null,
      "outputs": []
    },
    {
      "cell_type": "markdown",
      "source": [
        "## Handling outliers\n",
        "\n",
        "In order to do this we need to understand data distributions. We will test product characteristics:\n",
        "* category\n",
        "* sub_category\n",
        "* brand\n",
        "* type\n",
        "* rating"
      ],
      "metadata": {
        "id": "itmsOoDfTLQ5"
      }
    },
    {
      "cell_type": "code",
      "source": [
        "def show_hist(col_name):\n",
        "  # calculate number of unique values\n",
        "  counts = df[col_name].value_counts()\n",
        "  # normilize number of unique values (percentage)\n",
        "  counts_norm = df[col_name].value_counts(normalize=True)\n",
        "  distr_df = pd.DataFrame({\"counts\": counts, \"counts_norm\": counts_norm}).sort_values(\"counts\", ascending=False)\n",
        "  # show a graph chart\n",
        "  distr_df.plot(kind='bar', xticks=[], y=\"counts\")"
      ],
      "metadata": {
        "id": "z8GRH7iuT918"
      },
      "execution_count": null,
      "outputs": []
    },
    {
      "cell_type": "code",
      "source": [
        "show_hist(\"category\")"
      ],
      "metadata": {
        "id": "wUE0krh7U_QS"
      },
      "execution_count": null,
      "outputs": []
    },
    {
      "cell_type": "code",
      "source": [
        "show_hist(\"sub_category\")"
      ],
      "metadata": {
        "id": "00CxyvONVV43"
      },
      "execution_count": null,
      "outputs": []
    },
    {
      "cell_type": "code",
      "source": [
        "show_hist(\"brand\")"
      ],
      "metadata": {
        "id": "C9j4EF-3W3dW"
      },
      "execution_count": null,
      "outputs": []
    },
    {
      "cell_type": "code",
      "source": [
        "show_hist(\"type\")"
      ],
      "metadata": {
        "id": "HItUbEDbW3_J"
      },
      "execution_count": null,
      "outputs": []
    },
    {
      "cell_type": "code",
      "source": [
        "show_hist(\"rating\")"
      ],
      "metadata": {
        "id": "ZCLSUUTLW4QT"
      },
      "execution_count": null,
      "outputs": []
    },
    {
      "cell_type": "markdown",
      "source": [
        "### Normalization\n",
        "\n",
        "MinMax normalization"
      ],
      "metadata": {
        "id": "bR7KwWBlY7Rn"
      }
    },
    {
      "cell_type": "code",
      "source": [
        "from sklearn.preprocessing import MinMaxScaler\n",
        "\n",
        "scaler = MinMaxScaler()\n",
        "df[['sale_price_norm', 'market_price_norm']] = scaler.fit_transform(df[['sale_price', 'market_price']])"
      ],
      "metadata": {
        "id": "FX1wIstbqaNy"
      },
      "execution_count": null,
      "outputs": []
    },
    {
      "cell_type": "markdown",
      "source": [
        "## Converting categorical variables to numerical\n",
        "\n",
        "All product characteristics presented as literal values will be converted to numerical."
      ],
      "metadata": {
        "id": "8VWI6NSY7_UH"
      }
    },
    {
      "cell_type": "code",
      "source": [
        "df_original = df.copy()"
      ],
      "metadata": {
        "id": "LhuN9SH3pxWQ"
      },
      "execution_count": null,
      "outputs": []
    },
    {
      "cell_type": "markdown",
      "source": [
        "### Discretization\n",
        "\n",
        "We will replace literal values with numbers. Two columns can be converted to numeric with this method: \"category\" and \"brand\"."
      ],
      "metadata": {
        "id": "5XUZEOCdp2GT"
      }
    },
    {
      "cell_type": "code",
      "source": [
        "from sklearn.preprocessing import LabelEncoder\n",
        "\n",
        "le = LabelEncoder()\n",
        "\n",
        "df[\"category_numeric\"] = le.fit_transform(df['category'])\n",
        "df[\"brand_numeric\"] = le.fit_transform(df['brand'])"
      ],
      "metadata": {
        "id": "Yi5vadPT8FiO"
      },
      "execution_count": null,
      "outputs": []
    },
    {
      "cell_type": "markdown",
      "source": [
        "Result of the operation:"
      ],
      "metadata": {
        "id": "R58AuB3zjkOI"
      }
    },
    {
      "cell_type": "code",
      "source": [
        "pd.DataFrame(df[[\"category\", \"category_numeric\"]].value_counts()).sort_values(\"category_numeric\", axis=0).head(5)"
      ],
      "metadata": {
        "id": "poU-i4cYidjH"
      },
      "execution_count": null,
      "outputs": []
    },
    {
      "cell_type": "code",
      "source": [
        "pd.DataFrame(df[[\"brand\", \"brand_numeric\"]].value_counts()).sort_values(\"brand_numeric\", axis=0).head(5)"
      ],
      "metadata": {
        "id": "s1JAa1HWjuhw"
      },
      "execution_count": null,
      "outputs": []
    },
    {
      "cell_type": "markdown",
      "source": [
        "### Encode categorical values\n",
        "\n",
        "There are other columns which needs additional transformation before convertion to numeric. These columns are \"sub_category\" and \"type\"."
      ],
      "metadata": {
        "id": "K4FS25j6lNst"
      }
    },
    {
      "cell_type": "code",
      "source": [
        "from sklearn.preprocessing import OneHotEncoder\n",
        "\n",
        "def encode_column(df, col_name):\n",
        "  ohe = OneHotEncoder()\n",
        "  df_encoded = ohe.fit_transform(df[[col_name]]).toarray()\n",
        "  df_encoded = pd.DataFrame(df_encoded, columns=ohe.get_feature_names_out([col_name]))\n",
        "  df = pd.merge(df.reset_index(), df_encoded, left_index=True, right_index=True, how='inner')\n",
        "  df = df.set_index(\"product_id\")\n",
        "  return df"
      ],
      "metadata": {
        "id": "NIOG2NA7lUdW"
      },
      "execution_count": null,
      "outputs": []
    },
    {
      "cell_type": "code",
      "source": [
        "df = encode_column(df, \"category_numeric\")\n",
        "df = encode_column(df, \"brand_numeric\")"
      ],
      "metadata": {
        "id": "EjR6fLd2ong_"
      },
      "execution_count": null,
      "outputs": []
    },
    {
      "cell_type": "markdown",
      "source": [
        "Non trivial cases with sub categories and other types with complex names."
      ],
      "metadata": {
        "id": "BBAc-poEpIBk"
      }
    },
    {
      "cell_type": "code",
      "source": [
        "df[df['sub_category'].str.contains('care', case=False, na=False)]['sub_category'].unique()"
      ],
      "metadata": {
        "id": "Dy72rI08cTb4"
      },
      "execution_count": null,
      "outputs": []
    },
    {
      "cell_type": "code",
      "source": [
        "df[df['type'].str.contains('care', case=False, na=False)]['type'].unique()"
      ],
      "metadata": {
        "id": "p3r_EF6Bd3UT"
      },
      "execution_count": null,
      "outputs": []
    },
    {
      "cell_type": "markdown",
      "source": [
        "We will extract additional features from existing ones to have more characteristics to calculate product similarity."
      ],
      "metadata": {
        "id": "2PghabOUnkjB"
      }
    },
    {
      "cell_type": "code",
      "source": [
        "df[\"subcat_men\"] = df['sub_category'].str.contains('men', case=False, na=False).astype(int)"
      ],
      "metadata": {
        "id": "HE-CYfW-MI6u"
      },
      "execution_count": null,
      "outputs": []
    },
    {
      "cell_type": "code",
      "source": [
        "df[[\"sub_category\", \"subcat_men\"]][df[\"subcat_men\"]==1].head()"
      ],
      "metadata": {
        "id": "EQVf5FBEMUUT"
      },
      "execution_count": null,
      "outputs": []
    },
    {
      "cell_type": "code",
      "source": [
        "df[[\"sub_category\", \"subcat_men\"]][df[\"subcat_men\"]==0].head()"
      ],
      "metadata": {
        "id": "hIcxMHgpMUaT"
      },
      "execution_count": null,
      "outputs": []
    },
    {
      "cell_type": "markdown",
      "source": [
        "Extracting featires from sub category."
      ],
      "metadata": {
        "id": "aa1QsyuvOE2a"
      }
    },
    {
      "cell_type": "code",
      "source": [
        "subcat_groups = [\"men\", \"women\", \"care\", \"hair\", \"skin\", \"oral\"]\n",
        "for group in subcat_groups:\n",
        "  df[f\"subcat_{group}\"] = df['sub_category'].str.contains(group, case=False, na=False).astype(int)"
      ],
      "metadata": {
        "id": "I0DH_U4MnBcp"
      },
      "execution_count": null,
      "outputs": []
    },
    {
      "cell_type": "markdown",
      "source": [
        "Extracting featires from type."
      ],
      "metadata": {
        "id": "TGvEdFRROI88"
      }
    },
    {
      "cell_type": "code",
      "source": [
        "type_groups = [\"body\", \"hair\", \"face\", \"men\", \"women\", \"care\", \"health\", \"supplements\", \"shampoo\"]\n",
        "for group in type_groups:\n",
        "  df[f\"type_{group}\"] = df['type'].str.contains(group, case=False, na=False).astype(int)"
      ],
      "metadata": {
        "id": "ZnYa2Vk_LIf5"
      },
      "execution_count": null,
      "outputs": []
    },
    {
      "cell_type": "code",
      "source": [
        "food_words = [\"food\", \"chocolate\", \"fruit\", \"snack\", \"vegetable\", \"sugar\", \"noodle\", \"baguette\", \"tea\", \"popcorn\", \"drink\", \"seed\", \"spice\", \"meal\", \"milk\", \"lunch\", \"cookie\", \"sauce\"]\n",
        "df[\"type_food\"] = df['type'].str.contains('|'.join(food_words), case=False, na=False).astype(int)"
      ],
      "metadata": {
        "id": "BOPUwmHYLBjv"
      },
      "execution_count": null,
      "outputs": []
    },
    {
      "cell_type": "markdown",
      "source": [
        "All additinal columns could be seen in the information about data frame structure."
      ],
      "metadata": {
        "id": "4KzDWgQFOLoC"
      }
    },
    {
      "cell_type": "code",
      "source": [
        "df.dtypes"
      ],
      "metadata": {
        "id": "kHOvYxSptYkR"
      },
      "execution_count": null,
      "outputs": []
    },
    {
      "cell_type": "markdown",
      "source": [
        "## Building recommender model"
      ],
      "metadata": {
        "id": "1aBb6ABO7Ibg"
      }
    },
    {
      "cell_type": "markdown",
      "source": [
        "### Using distance metrics"
      ],
      "metadata": {
        "id": "dQcOFkJ4RI2s"
      }
    },
    {
      "cell_type": "markdown",
      "source": [
        "Before calculation we need to adjust data frame structure ot get unique product identifies and be able to search for exact product later."
      ],
      "metadata": {
        "id": "CC2n6mqrtlgD"
      }
    },
    {
      "cell_type": "code",
      "source": [
        "# try to find similar product manully\n",
        "cols = [\"product\", \"sub_category\", \"type\", \"sale_price\", \"sale_price_norm\"] + [col for col in df.columns if \"type_\" in col or \"subcat_\" in col or \"category_\" in col or \"brand_\" in col]\n",
        "df[df[\"subcat_care\"]==1][cols]"
      ],
      "metadata": {
        "id": "9gqjNVJzLo3Y"
      },
      "execution_count": null,
      "outputs": []
    },
    {
      "cell_type": "code",
      "source": [
        "cols = [\"sale_price_norm\", \"market_price_norm\"] + [col for col in df.columns if \"type_\" in col or \"subcat_\" in col or \"category_\" in col or \"brand_\" in col]\n",
        "product_features = df[cols]\n",
        "product_features = product_features.drop([\"brand_numeric\", \"category_numeric\"], axis=1)"
      ],
      "metadata": {
        "id": "DvDcmxMDsX36"
      },
      "execution_count": null,
      "outputs": []
    },
    {
      "cell_type": "markdown",
      "source": [
        "#### Cosine distance"
      ],
      "metadata": {
        "id": "V4glgcT3sAB0"
      }
    },
    {
      "cell_type": "code",
      "source": [
        "from sklearn.metrics.pairwise import cosine_similarity\n",
        "\n",
        "cosine_sim = cosine_similarity(product_features)\n",
        "\n",
        "# Convert cosine similarity matrix to data frame\n",
        "cosine_sim_df = pd.DataFrame(cosine_sim, index=df.index, columns=df.index)"
      ],
      "metadata": {
        "id": "GRqHWueasC61"
      },
      "execution_count": null,
      "outputs": []
    },
    {
      "cell_type": "code",
      "source": [
        "def recommend_products(number, product_id=None):\n",
        "  cols = [\"product\", \"category\", \"sub_category\", \"brand\", \"sale_price\", \"market_price\", \"type\", \"rating\", \"description\"]\n",
        "  if product_id:\n",
        "    ser = cosine_sim_df[cosine_sim_df.index==product_id].squeeze()\n",
        "    s_sorted = ser.sort_values(ascending=False)\n",
        "    min_field_names = s_sorted.nlargest(number+1).index.tolist()\n",
        "    return df[df.index.isin(min_field_names)][cols]\n",
        "  # if product is not specified, we will use the top rated products\n",
        "  return df.sort_values(by=[\"rating\", \"sale_price_norm\"], ascending=False).head(number)[cols]"
      ],
      "metadata": {
        "id": "ehqzMXuJwX4H"
      },
      "execution_count": null,
      "outputs": []
    },
    {
      "cell_type": "code",
      "source": [
        "recommend_products(5, 7)"
      ],
      "metadata": {
        "id": "SQZkLAFEwtHf"
      },
      "execution_count": null,
      "outputs": []
    },
    {
      "cell_type": "code",
      "source": [
        "recommend_products(5, 39)"
      ],
      "metadata": {
        "id": "WtPSV8Gvw2ZL"
      },
      "execution_count": null,
      "outputs": []
    },
    {
      "cell_type": "code",
      "source": [
        "df[df[\"type_men\"]==1].head()"
      ],
      "metadata": {
        "id": "gSKXlOn1x4f6"
      },
      "execution_count": null,
      "outputs": []
    },
    {
      "cell_type": "markdown",
      "source": [
        "Store data to GCS bucket to use it in API"
      ],
      "metadata": {
        "id": "YfgDcaCmgg5C"
      }
    },
    {
      "cell_type": "code",
      "source": [
        "cosine_sim_df.columns = cosine_sim_df.columns.astype(str)\n",
        "cosine_sim_df.to_parquet(\"product_distances.parquet.gzip\", compression='gzip')"
      ],
      "metadata": {
        "id": "leSw62mCj6vG"
      },
      "execution_count": null,
      "outputs": []
    },
    {
      "cell_type": "code",
      "source": [
        "df = pd.read_parquet('product_distances.parquet.gzip')"
      ],
      "metadata": {
        "id": "-XN1oFfclHoG"
      },
      "execution_count": null,
      "outputs": []
    },
    {
      "cell_type": "code",
      "source": [
        "df.head()"
      ],
      "metadata": {
        "id": "qpde03qypFW2"
      },
      "execution_count": null,
      "outputs": []
    },
    {
      "cell_type": "code",
      "source": [],
      "metadata": {
        "id": "mwCqIdTspKyI"
      },
      "execution_count": null,
      "outputs": []
    }
  ]
}